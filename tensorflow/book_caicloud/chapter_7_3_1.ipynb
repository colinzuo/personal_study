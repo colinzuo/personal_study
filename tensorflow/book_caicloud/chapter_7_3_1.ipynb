{
 "cells": [
  {
   "cell_type": "code",
   "execution_count": 1,
   "metadata": {
    "collapsed": true
   },
   "outputs": [],
   "source": [
    "import tensorflow as tf"
   ]
  },
  {
   "cell_type": "code",
   "execution_count": 2,
   "metadata": {},
   "outputs": [
    {
     "name": "stdout",
     "output_type": "stream",
     "text": [
      "0\n",
      "10\n",
      "1\n",
      "11\n",
      "2\n"
     ]
    }
   ],
   "source": [
    "q = tf.FIFOQueue(2, \"int32\")\n",
    "init = q.enqueue_many(([0, 10],))\n",
    "x = q.dequeue()\n",
    "y = x + 1\n",
    "q_inc = q.enqueue([y])\n",
    "\n",
    "with tf.Session() as sess:\n",
    "    init.run()\n",
    "    for _ in range(5):\n",
    "        v, _ = sess.run([x, q_inc])\n",
    "        print(v)"
   ]
  },
  {
   "cell_type": "code",
   "execution_count": 6,
   "metadata": {},
   "outputs": [
    {
     "name": "stdout",
     "output_type": "stream",
     "text": [
      "Working on id: 0\n",
      "Working on id: 1\n",
      "\n",
      "\n",
      "Working on id: 2\n",
      "Working on id: 3\n",
      "\n",
      "\n",
      "Stopping from id: 4\n",
      "\n"
     ]
    }
   ],
   "source": [
    "import tensorflow as tf\n",
    "import numpy as np\n",
    "import threading\n",
    "import time\n",
    "\n",
    "def MyLoop(coord, worker_id):\n",
    "    while not coord.should_stop():\n",
    "        if np.random.rand() < 0.1:\n",
    "            print(\"Stopping from id: %d\\n\" % worker_id)\n",
    "            coord.request_stop()\n",
    "        else:\n",
    "            print(\"Working on id: %d\\n\" % worker_id)\n",
    "        time.sleep(1)\n",
    "        \n",
    "coord = tf.train.Coordinator()\n",
    "threads = [threading.Thread(target=MyLoop, args=(coord, i, )) for i in range(5)]\n",
    "for t in threads:\n",
    "    t.start()\n",
    "coord.join(threads)"
   ]
  },
  {
   "cell_type": "code",
   "execution_count": 8,
   "metadata": {},
   "outputs": [
    {
     "name": "stdout",
     "output_type": "stream",
     "text": [
      "-0.624748\n",
      "-0.990635\n",
      "0.540778\n"
     ]
    }
   ],
   "source": [
    "import tensorflow as tf\n",
    "\n",
    "queue = tf.FIFOQueue(100, 'float')\n",
    "enqueue_op = queue.enqueue([tf.random_normal([1])])\n",
    "\n",
    "qr = tf.train.QueueRunner(queue, [enqueue_op] * 5)\n",
    "\n",
    "tf.train.add_queue_runner(qr)\n",
    "\n",
    "out_tensor = queue.dequeue()\n",
    "\n",
    "with tf.Session() as sess:\n",
    "    coord = tf.train.Coordinator()\n",
    "    threads = tf.train.start_queue_runners(sess=sess, coord=coord)\n",
    "    for _ in range(3):\n",
    "        print(sess.run(out_tensor)[0])\n",
    "    coord.request_stop()\n",
    "    coord.join(threads)"
   ]
  },
  {
   "cell_type": "code",
   "execution_count": null,
   "metadata": {
    "collapsed": true
   },
   "outputs": [],
   "source": []
  }
 ],
 "metadata": {
  "kernelspec": {
   "display_name": "Python 3",
   "language": "python",
   "name": "python3"
  },
  "language_info": {
   "codemirror_mode": {
    "name": "ipython",
    "version": 3
   },
   "file_extension": ".py",
   "mimetype": "text/x-python",
   "name": "python",
   "nbconvert_exporter": "python",
   "pygments_lexer": "ipython3",
   "version": "3.5.3"
  }
 },
 "nbformat": 4,
 "nbformat_minor": 2
}
