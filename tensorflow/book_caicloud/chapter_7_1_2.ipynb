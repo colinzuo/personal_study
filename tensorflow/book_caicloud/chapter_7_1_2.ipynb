{
 "cells": [
  {
   "cell_type": "code",
   "execution_count": 2,
   "metadata": {},
   "outputs": [
    {
     "name": "stdout",
     "output_type": "stream",
     "text": [
      "Extracting /Users/colinzuo/work/github/personal_study/tensorflow/book_caicloud/mnist/train-images-idx3-ubyte.gz\n",
      "Extracting /Users/colinzuo/work/github/personal_study/tensorflow/book_caicloud/mnist/train-labels-idx1-ubyte.gz\n",
      "Extracting /Users/colinzuo/work/github/personal_study/tensorflow/book_caicloud/mnist/t10k-images-idx3-ubyte.gz\n",
      "Extracting /Users/colinzuo/work/github/personal_study/tensorflow/book_caicloud/mnist/t10k-labels-idx1-ubyte.gz\n"
     ]
    }
   ],
   "source": [
    "import tensorflow as tf\n",
    "from tensorflow.examples.tutorials.mnist import input_data\n",
    "import numpy as np\n",
    "import os\n",
    "\n",
    "def _int64_feature(value):\n",
    "    return tf.train.Feature(int64_list=tf.train.Int64List(value=[value]))\n",
    "\n",
    "def _bytes_feature(value):\n",
    "    return tf.train.Feature(bytes_list=tf.train.BytesList(value=[value]))\n",
    "\n",
    "if os.path.exists('/Users'):\n",
    "    data_path = '/Users/colinzuo/work/github/personal_study/tensorflow/book_caicloud/mnist/'\n",
    "else:\n",
    "    data_path = \"D:\\\\work\\\\DataAnalysis\\\\study\\\\mnist\"\n",
    "    \n",
    "mnist = input_data.read_data_sets(data_path, dtype=tf.uint8, one_hot=True)\n",
    "images = mnist.train.images\n",
    "labels = mnist.train.labels\n",
    "pixels = images.shape[1]\n",
    "num_examples = mnist.train.num_examples\n",
    "\n",
    "filename = os.path.join('data', 'mnist.tfrecords')\n",
    "\n",
    "writer = tf.python_io.TFRecordWriter(filename)\n",
    "\n",
    "for index in range(num_examples):\n",
    "    image_raw = images[index].tostring()\n",
    "    example = tf.train.Example(features=tf.train.Features(feature={\n",
    "        'pixels': _int64_feature(pixels),\n",
    "        'label': _int64_feature(np.argmax(labels[index])),\n",
    "        'image_raw': _bytes_feature(image_raw)\n",
    "    }))\n",
    "    writer.write(example.SerializeToString())\n",
    "\n",
    "writer.close()"
   ]
  },
  {
   "cell_type": "code",
   "execution_count": 3,
   "metadata": {
    "collapsed": true
   },
   "outputs": [],
   "source": [
    "import tensorflow as tf\n",
    "import os\n",
    "\n",
    "reader = tf.TFRecordReader()\n",
    "\n",
    "filename = os.path.join('data', 'mnist.tfrecords')\n",
    "\n",
    "filename_queue = tf.train.string_input_producer([filename])\n",
    "\n",
    "_, serialized_example = reader.read(filename_queue)\n",
    "\n",
    "features = tf.parse_single_example(serialized_example,\n",
    "                                  features={\n",
    "                                      'image_raw': tf.FixedLenFeature([], tf.string),\n",
    "                                      'pixels': tf.FixedLenFeature([], tf.int64),\n",
    "                                      'label': tf.FixedLenFeature([], tf.int64)\n",
    "                                  })\n",
    "\n",
    "images = tf.decode_raw(features['image_raw'], tf.uint8)\n",
    "labels = tf.cast(features['label'], tf.int32)\n",
    "pixels = tf.cast(features['pixels'], tf.int32)\n",
    "\n",
    "sess = tf.Session()\n",
    "coord = tf.train.Coordinator()\n",
    "threads = tf.train.start_queue_runners(sess=sess, coord=coord)\n",
    "\n",
    "for i in range(10):\n",
    "    image, label, pixel = sess.run([images, labels, pixels])"
   ]
  },
  {
   "cell_type": "code",
   "execution_count": null,
   "metadata": {
    "collapsed": true
   },
   "outputs": [],
   "source": []
  }
 ],
 "metadata": {
  "kernelspec": {
   "display_name": "Python 3",
   "language": "python",
   "name": "python3"
  },
  "language_info": {
   "codemirror_mode": {
    "name": "ipython",
    "version": 3
   },
   "file_extension": ".py",
   "mimetype": "text/x-python",
   "name": "python",
   "nbconvert_exporter": "python",
   "pygments_lexer": "ipython3",
   "version": "3.5.3"
  }
 },
 "nbformat": 4,
 "nbformat_minor": 2
}
